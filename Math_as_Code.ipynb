{
  "nbformat": 4,
  "nbformat_minor": 0,
  "metadata": {
    "colab": {
      "name": "Math_as_Code.ipynb",
      "provenance": [],
      "collapsed_sections": [],
      "authorship_tag": "ABX9TyOOcaFMb19TtGCYXkyP6PWM",
      "include_colab_link": true
    },
    "kernelspec": {
      "name": "python3",
      "display_name": "Python 3"
    },
    "language_info": {
      "name": "python"
    }
  },
  "cells": [
    {
      "cell_type": "markdown",
      "metadata": {
        "id": "view-in-github",
        "colab_type": "text"
      },
      "source": [
        "<a href=\"https://colab.research.google.com/github/ashikshafi08/MathCodeNN/blob/main/Math_as_Code.ipynb\" target=\"_parent\"><img src=\"https://colab.research.google.com/assets/colab-badge.svg\" alt=\"Open In Colab\"/></a>"
      ]
    },
    {
      "cell_type": "markdown",
      "source": [
        "# Math as Code \n",
        "\n",
        "This notebook will contain the code + mathematical concepts needed for reading Machine Learning papers. \n",
        "\n"
      ],
      "metadata": {
        "id": "xb3x9QZyZaeg"
      }
    },
    {
      "cell_type": "markdown",
      "source": [
        "### Naming Conventions \n",
        "\n",
        "* *s* - Italic lowercase used for the `scalars`. (a number, 1D)\n",
        "* **x** - bold lowercase used for the `vectors` (2D). \n",
        "* **A** - bold uppercase used for defining `matrices`. \n",
        "* *θ* - italic lowercase greek letter for `constants and special variables`. \n",
        "\n"
      ],
      "metadata": {
        "id": "aiJEQ_4Ir3nb"
      }
    },
    {
      "cell_type": "markdown",
      "source": [
        "### Equal Symbols \n",
        "\n",
        "Below are the few common examples of symbols resembling the equal sign. \n",
        "\n",
        "* `=` : equality (check whether the values are same) \n",
        "* `≠` : inequality (values aren't the same)\n",
        "* `≈` : approximately equal to some value (precision matters)\n",
        "* `:=` : used for definition"
      ],
      "metadata": {
        "id": "PVHEwsDctYku"
      }
    },
    {
      "cell_type": "code",
      "source": [
        "# Equality\n",
        "print(f'Checking whether (2 = 3) -> {2 == 3}')\n",
        "\n",
        "# Inequality \n",
        "print(f'Checking for inequality (2 not equal to 3) -> {2 != 3}')"
      ],
      "metadata": {
        "colab": {
          "base_uri": "https://localhost:8080/"
        },
        "id": "LksoMN_3xr14",
        "outputId": "df4259cb-2ce6-499c-d82d-61690ddf5128"
      },
      "execution_count": 56,
      "outputs": [
        {
          "output_type": "stream",
          "name": "stdout",
          "text": [
            "Checking whether (2 = 3) -> False\n",
            "Checking for inequality (2 not equal to 3) -> True\n"
          ]
        }
      ]
    },
    {
      "cell_type": "code",
      "source": [
        "# Approximately equals \n",
        "import math \n",
        "import numpy as np \n",
        "\n",
        "# We use isclose to calculate the approx \n",
        "print(f'Approximation equals: {math.isclose(math.pi , 3.14159)}')\n",
        "\n",
        "# We can add some tolerance as an third argument which will check the upto certain decimal point \n",
        "# here we check upto 5 decimal points\n",
        "print(f'Approximation using some tolerance: {math.isclose(math.pi , 3.14159 , rel_tol = 1e-5)}')"
      ],
      "metadata": {
        "colab": {
          "base_uri": "https://localhost:8080/"
        },
        "id": "KCSWp-P4xyMb",
        "outputId": "28ddc4aa-674f-4b3e-eae6-cc90b6cfc33e"
      },
      "execution_count": 57,
      "outputs": [
        {
          "output_type": "stream",
          "name": "stdout",
          "text": [
            "Approximation equals: False\n",
            "Approximation using some tolerance: True\n"
          ]
        }
      ]
    },
    {
      "cell_type": "code",
      "source": [
        "# Checking if any values are almost equal \n",
        "\n",
        "def almost_equal(x ,y , epsilon = 7):\n",
        "\n",
        "  return np.abs(x - y) < 10** -epsilon # (1e-7)\n",
        "\n",
        "almost_equal(4, 2)"
      ],
      "metadata": {
        "colab": {
          "base_uri": "https://localhost:8080/"
        },
        "id": "z3MHWlzA0l41",
        "outputId": "bc1f5f00-faef-411a-8b44-d8a036f337b1"
      },
      "execution_count": 58,
      "outputs": [
        {
          "output_type": "execute_result",
          "data": {
            "text/plain": [
              "False"
            ]
          },
          "metadata": {},
          "execution_count": 58
        }
      ]
    },
    {
      "cell_type": "markdown",
      "source": [
        "Definition of variables \n",
        "\n",
        "`x := 2kj` also means, x to be the another name for 2kj. \n"
      ],
      "metadata": {
        "id": "Zg0-oheN1hb9"
      }
    },
    {
      "cell_type": "code",
      "source": [
        "# In Python, we write it as \n",
        "k, j = 0 , 2\n",
        "\n",
        "x = 2*k*j "
      ],
      "metadata": {
        "id": "-Eav174Q1jfT"
      },
      "execution_count": 59,
      "outputs": []
    },
    {
      "cell_type": "markdown",
      "source": [
        "### Square Root and Complex Numbers \n",
        "\n",
        "The square root will be of the below form: \n",
        "\n",
        "\n",
        "![Screenshot 2022-04-09 at 2.05.17 AM.png](data:image/png;base64,iVBORw0KGgoAAAANSUhEUgAAAGwAAAApCAYAAADQ88wSAAAYf2lDQ1BJQ0MgUHJvZmlsZQAAWIWVeQdUVMuydu/JM+QZcs4ZJOecc84gAkMakjBEAUUQUYIiiICgqIhEFRUFVARBDChK8ICIiCASVBRQQSXI2wQ95577r/+t12v17m+qq6u6q7u6ds0GgGvENzIyDMEIQHhEDNXB1IDfzd2DHzsFUAACWKACxH3J0ZH6dnZWAC6/2/8sS4MwL1yey2zI+u/+/28h+gdEkwGAvGDs5x9NDofxXQBQp8iR1BgAMBt0ofiYyA28H8bMVHiCMC7YwEFbuHoD+23hlk0eJwdDGPcCgKP19aUGAUA/AtP548hBsBz6VbiPGOFPiQCABV45Rocc7OsPAJcdzCMdHr57AyfDWBzmj4RxBYzV/P4hM+g/5Pv9ke/rG/QHb61rs+CMKNGRYb57/o+m+d9LeFjsbx2icKUNppo5bKwftuFQ6G7LDUwL49kIPxvbDVvD+AfFf8vuACAIwbFmzlv8CG5ytCFsP8AKYzl/XyNLGHPD2CQizMZqm+4XSDExhzFsM0QCJcbcCcbsMD4cEG3suM1zlrrbYVsXojGQaqi/TX/kS93Uu6FrNDbUWX9b/pfgAPNt+Uj6xGAnVxgTYCwcR3GxgTE9jGWjQx0tt3m0EoMNbX7zUGMdNuYvDGOHgAhTgy35yLhAqonDNn9WePTv9SLPBlPMbbbxtZhgJ7Mt+yA7yb6b84fXguwNiNB3/i0nINrN6vda/AOMjLfWjpwJiHB23JbzIzLGwGFrLIoQGWa3zY8SDAgz3aALwlgpOs5xeyzKJQY+nFvyUYGRMXZOW/NEJYb4WthtzQd1DFgBQ2AE+EEsXP3AbhACKM9mm2bhX1s9JsAXUEEQCAAy25TfI1w3eyLgpyNIBJ9gFACi/4wz2OwNAHEwfe0PdespAwI3e+M2R4SCKRiHA0sQBv+O3RwV8UebC3gHUyj/pd0XrmR4vmFw3ej/f9N/U/+m6MMUq21K7G+N/Ay/OTHGGCOMGcYEI4HiROmgNFFW8FMPrgooNZT673X8zY+eQveh36IH0GPol7soadR/zdIajMHyTbZt4fdPW6BEYZnKKAOUNiwdloxiRXECGZQSrEcfpQtrVoaphtvz3rAK/79k/8cK/rEb23x4OTwCz4bXw4v/eyS9JL3yHykbtv6nfbbm6vfH3oZ/ev6t3/Af1veHW8t/cyIPIxuQD5HtyC5kC7IJ8CPbkM3IbuSdDfzndL3bPF2/tTlszicUlkP5L32+2zo3LBktVyf3Xm51qy8mICFmw/EMd0fuoVKCgmP49eHoEMBvHkGWleZXkFNQAGAj1mxdX18dNmMIxNrzN418EADVeQDwy3/Twr8CcAX2fX7rv2ki3rD7YQConiLHUuO2aKiNBxq+JRhgT+MAvEAIiMPrUYAjmibQA8bAAtgCJ+AOvGErB8PnnAriQTJIBRkgGxwDJ0AJOAPOg2pwCVwDTaAFtIMH4AnoBQPgFXx6JsFHMA+WwAoEQViIDiJBHBAfJAJJQQqQGqQDGUNWkAPkDvlAQVAEFAslQwegbCgfKoHOQTXQVegm1A51QX3QS2gceg99gZYRSAQtghnBgxBF7ECoIfQRlggnxE5EECIKkYhIRxxFFCPKERcRjYh2xBPEAGIM8RGxiARIGiQrUgApg1RDGiJtkR7IQCQVuQ+ZhSxEliMvI2/B+/wcOYacRf5EYVAkFD9KBj7BZihnFBkVhdqHykGVoKpRjahO1HPUOGoe9QtNh+ZGS6E10OZoN3QQOh6dgS5EV6JvoO/DvjSJXsJgMKwYMYwq7IvumBBMEiYHcxpTj7mL6cNMYBaxWCwHVgqrjbXF+mJjsBnYk9iL2DZsP3YS+wNHg+PDKeBMcB64CFwarhBXi2vF9eOmcSt4RrwIXgNvi/fH78Hn4ivwt/A9+En8CoGJIEbQJjgRQgiphGLCZcJ9wgjhKw0NjSCNOo09DYVmP00xzRWaRzTjND9pibSStIa0XrSxtEdpq2jv0r6k/UpHRydKp0fnQRdDd5Suhu4e3SjdD3oSvSy9Ob0/fQp9KX0jfT/9ZwY8gwiDPoM3QyJDIUMDQw/DLCOeUZTRkNGXcR9jKeNNxheMi0wkJnkmW6ZwphymWqYuphkilihKNCb6E9OJ54n3iBMkJEmIZEgikw6QKkj3SZPMGGYxZnPmEOZs5kvMz5jnWYgsSiwuLAkspSx3WMZYkayirOasYay5rNdYB1mX2XjY9NkC2DLZLrP1s31n52LXYw9gz2KvZx9gX+bg5zDmCOXI42jieM2J4pTktOeM5yzjvM85y8XMpclF5sriusY1zI3gluR24E7iPs/dzb3Iw8tjyhPJc5LnHs8sLyuvHm8IbwFvK+97PhKfDh+Fr4Cvje8DPwu/Pn8YfzF/J/+8ALeAmUCswDmBZwIrgmKCzoJpgvWCr4UIQmpCgUIFQh1C88J8wtbCycJ1wsMieBE1kWCRIpGHIt9FxURdRQ+JNonOiLGLmYslitWJjYjTieuKR4mXi/8lgZFQkwiVOC3RK4mQVJYMliyV7JFCSKlIUaROS/VJo6XVpSOky6VfyNDK6MvEydTJjMuyylrJpsk2yX7eIbzDY0fejoc7fskpy4XJVci9kifKW8inyd+S/6IgqUBWKFX4S5FO0UQxRbFZcUFJSilAqUxpSJmkbK18SLlDeU1FVYWqclnlvaqwqo/qKdUXasxqdmo5ao/U0eoG6inqLeo/NVQ0YjSuacxpymiGatZqzmiJaQVoVWhNaAtq+2qf0x7T4dfx0TmrM6YroOurW677Vk9Iz1+vUm9aX0I/RP+i/mcDOQOqwQ2D74YahnsN7xohjUyNsoyeGRONnY1LjEdNBE2CTOpM5k2VTZNM75qhzSzN8sxemPOYk81rzOctVC32WnRa0lo6WpZYvrWStKJa3bJGWFtYH7cesRGxibBpsgW25rbHbV/bidlF2d22x9jb2ZfaTznIOyQ7PHQkOe5yrHVccjJwynV65SzuHOvc4cLg4uVS4/Ld1cg133XMbYfbXrcn7pzuFPdmD6yHi0elx6KnsecJz0kvZa8Mr8GdYjsTdnZ5c3qHed/ZxbDLd1eDD9rH1afWZ9XX1rfcd9HP3O+U3zzZkFxE/uiv51/g/z5AOyA/YDpQOzA/cCZIO+h40Ptg3eDC4FmKIaWEshBiFnIm5HuobWhV6HqYa1h9OC7cJ/xmBDEiNKJzN+/uhN19kVKRGZFjURpRJ6LmqZbUymgoemd0cwwz/FLfHSseezB2PE4nrjTuR7xLfEMCU0JEQvceyT2Ze6YTTRIvJKGSyEkdyQLJqcnje/X3ntsH7fPb15EilJKeMrnfdH91KiE1NPVpmlxaftq3A64HbqXzpO9PnzhoerAugz6DmvHikOahM4dRhymHn2UqZp7M/JXln/U4Wy67MHs1h5zz+Ij8keIj60cDjz7LVcktO4Y5FnFsME83rzqfKT8xf+K49fHGAv6CrIJvJ3ad6CpUKjxTRCiKLRortipuPil88tjJ1ZLgkoFSg9L6U9ynMk99P+1/ur9Mr+zyGZ4z2WeWz1LODp0zPddYLlpeeB5zPu78VIVLxcMLahdqKjkrsyvXqiKqxqodqjtrVGtqarlrc+sQdbF17y96Xey9ZHSp+bLM5XP1rPXZV8CV2CsfrvpcHbxmea2jQa3h8nWR66dukG5kNUKNexrnm4Kbxprdm/tuWtzsuKV568Zt2dtVLQItpXdY7uS2ElrTW9fbEtsW70benW0Pap/o2NXx6p7bvb867Tuf3be8/+iByYN7D/Uftj3SftTSpdF187Ha46YnKk8au5W7bzxVfnrjmcqzxh7VnuZe9d5bfVp9rf26/e3PjZ4/+Mv8rycDNgN9g86DQy+8XowN+Q/NvAx7uTAcN7zyav8IeiTrNePrwlHu0fI3Em/qx1TG7owbjXe/dXz7aoI88fFd9LvVyfQpuqnCab7pmhmFmZb3Ju97P3h+mPwY+XFlNuMT06dTn8U/X5/Tm+ued5ufXKAurH/J+crxteqb0reORbvF0aXwpZXvWT84flT/VPv5cNl1eXolfhW7WrwmsXbrl+WvkfXw9fVIX6rv5qsAEq6IwEAAvlQBQOcOAAnO2wieW7ngdkHCLx8IuHWBZKGPiHQ4ovagMtAmGCTmCbYYF4G3IkjQYGlmafvpmuirGCoZ65maiR2kJ8y9LEOsb9hm2D9yLHAuc63xIHixfAR+OgGiIFGIVZhdhE2UXYxbnEeCX5JfSlBaWEZUVmyHtJycvKKCiqKGkq6ysYq5qrmaibqJhommoZa+tpaOhq6Snqy+qAGPIbMRwWjd+KvJlOlLs27zFotqy+NWKdYhNm62xnbK9mIOXI6MTjhnpAvkinBDueM9GD05vIR3ynhL7BL24fPl9GMhk/yJAaRA1iCuYEGKdIhqqEmYSzglInl3fmRF1FlqcXReTE5sZlxW/NGE4j3Via1Jr/aCfdIpu/afTH11QDB998H2Q5jDQpkKWQbZjjmBRxKP5uVWH7ubN5y/WMB0QqbQoiiw+MDJspKbpf2n3p1ePIM9y3FOslzrvG2F34WYyoNVhdXVNTdrH9cNX/xw6Wc97grbVfFrug3u16NuZDaebqpvbrvZdavndm/LkzsdrVfbSu+mtO/q0LhHvDfVefN+7YNTD7MfJXT5PTZ/IttN3z379P6zUz2RvQZ9pL6J/mvPU/+yHxAZRA2+f9E9VP8yfzjmlcuI2mvO16ujo2/axy6MZ77dPeH8TmtSGD5lS9N/zVx/X/Qh5WPYLPkT+XPkXPb8jYW5r3rfzi2Rvhf/lFp+tpryS2N9/R/7r4CcQeWjLTEsmNfYBlwOPohgRCNJy0C7SjdNP8QwxPiG6R3xE+kr8xLLGusK2xr7L441ziWur9xzPFO8I3z9/PcFbgpWCmULh4lYiUqK4cU+iHdJ1EhmSVGkLWVkZOlk53b0yV2XL1JIViQr2SsbqCioCqgR1dbVP2uMaHZpNWqX6+Toxuv56FsYKBhyGiGM3hs/M7limmcWbe5koWLJZrli9cb6nk2tbZ5dkn2gg6OjvpO8s4ALyRXruuz20X3Eo9vzjlf9zrPex3cd8kn2pfpRyL7+HgFOgfZBNsGWFMsQs1DNMNlwgQiW3TSRiMjVqB/Un9Frseg4YrxQgsYep8TopMLklr1TKTT7+VJl0rQP2KT7HYzPOHKo8nBb5nDW9xzmIwpH7XMjjh3Jq8t/dPxdwXohZ5Fysd3J0JKDpWdONZ/uLZs58+scc7nEee0KuwvkytiqQ9XF8D3XXTd3iXhZsd7xStTV3Gt1DZ3XR258acI0c9yUvKVx26LF7U5ga0xbyt3U9gMdB+9ldB66f/hB1sOcR0e6jjw+8uRId87T7GeZPYd60/tS+/c+j/sramD3YOSLmKGklweHj78qH2l4/WD05ZtP4+AtcULwnfykzpT5tN/M2fefPirPJn1q/fxrXnMh7svlr+8W2Zcsv6f8aPg5vcK96rCW9atze/+NEfrIHcjPqHb0IYwjVhy7gLuJzyA40HDTjNKepwunV2dAMLQzpjNZEBmIvaRjzLYsDCxPWbPYTNgh9maOCE4hziGubG4d7k88pbxmvN/4yvjN+D8LFAhqCI4I7RXmF24V8RZZFS0WUxLrFg8QX5U4Likl2SblKDUlnSojIjMkm7PDYMc3uSp5TwU6hTbFSCUBpX7lNBUFlXHVXDVttU/qpRrmGoua57XstX5p1+m462J1b+iR9Yn6dw0iDfkNe43SjJWMp01KTG3h947b5lEWUhbvLMusPKxZrZ/b5Ns62JHsBu1POng7Cjt+cLrqnOhi7MrgOuxW6R7tYeBJ6znodWZnsLeC98qu+z55vl5+En5L5E7/4wG+gYpBqKDB4FpKSohTqHQYOuxN+K2I4t3xka5RGlTeaFT0bMxAbHtcfXxZQu6e1MT4pNBk/70797mlOO13SLVPsz/gkO500D1j56GAw6GZ0Vkp2Ydz8o+UHa3JbTx2L68vf/T45xOoQokir+JjJ++XrJySPe1XduLM47Or5QrnAypKLvRUoaq1auJr6+s+XpK8HFJfe2XumkrD/uvdjRxNYc2dt/hup7S8bbVqa2mX77jYKXX/6kODR8OPE7r5nvb2HOlzei46AAY/Dr0b/vAavBEZ3zVRO4WeSfwIPlXMk7/qLqn9dF4t3tj/rf8ENwpGBYAThwDY+J/HoQaAnIsAiO0BgA3OPe3oAHBSBwgBUwAtdgDIQvtP/IDgxJMASIAHSAI1YAbnl2FwTlkE6kEXmABrEDukDDlC0dAJqBl6Ded80ggXRCqiHjGKZEAaIOORl5BTcJbmhSpFvYIzMR/0BfQnjAomFfMMy4MNx7bhSDgKrh3PiY/F9xMUCUWEVRoyzVNaddpqOna6HHoEfRL9d4ZYhiXGRCaIKYvISqwgqZF6mUNYsCwXWI1Zp9gOs0ux93LEcHJwtnL5c9NwX+Px4EXyXuLzhDOCPoFcQVshJqHnwkUinqIColNiF8WjJTQkIckuqTxpT/h0zsv272iRq5TPV9inSFFyVNZQ4VOFVMfUWtQLNEI0tbXotUa0a3RidHX1cHp9+g0G1w2bjG4Zt5rcM+0y6zEftBi1nLZasF6xxdmx2os6qDlaOZGdk12KXVvdZjxInvpekTvLvQd8CL76fknkZv/vgWpBScHtIYRQ57CK8MXdZpFlUXPRWjHZsaPxSgnH9iwkuSY/2Ked0ppqmTaRnpmhfRhk9mVfOXIqNz/P7Diy4H5hXnFAieEp6TLBsyLlShU2lVHVpbVPLoF61as2De43gpuSb564fe1Of9tSB2+n2YOYR2cfP+te65Hp2/n86MDdIdIweeTS6Ow494TapN60/Hv6Dy9mj37eMde+YPal85vCYsnS8g/7nxeWF1Y11lJ+3d28P7b2nwjvvwRQBSbAFYSAfaAA1IFOMAp+QCRIDrKBIqBjUAP0EgEQEnCWn4a4ingL5/FWyHRkG3IFpY06gOpGs6MD0Y0YPMYb04hlxIZhn+Ckcbm4RbwX/gFBllBEg6SJohmndaZ9TGdI10qvRX8HzmIfMdozjsJ56jqxgCRLesocAWeezay+bDRszeyBHKwcDzn3cElzjXMX8djy4ng7+PbzGwhgBJ4KFgr5CssKr4p0i5aJRYkbS3BJfJF8LHVeOkXGU1Zzh4QcuzxeflVhTnFC6YXyY5XbqhfVStQPaVA1PbUMtSV1GHUWdYf1WvXrDa4aNhg1Gd82aTPtNHts3mvxwvKN1bT1gs2KHc6e1UHMUd3J2tnfZa9ridtN92GPNS/BnRbeMbvO+vT4QWQV/4iAmsCpYFFKSMjV0OVw04jC3TNRWtS90W2xqDir+KKEqUT1pKPJ0/uMU6pT6dP2HJiG75PewxaZD7PNcrqPOuSO5aUc5y24WxhYTH+yudT/NKnswdm95Srnv1y4WhVbo1WHuThw+cKV5Gte11Ua6Zsmbl6/feCOTRv73fGOmk7qA61H2K7BJzVP9/d49ek8FxlgGnw05Pxy8lXia+bRa2NO46sT1ZPu0wwzXR8Oz1p+Zpx7sXD2a8iiynfEj57l0tWgX4rb+48EGEC7eQOIAxX4BLiBcHAQnAG3wTDs/4KQBRQLVUCDCBqEEez5HUgc0h55BvkFZYGqQuPRVPQbjBPs7TbYARwZ9xNfSFAnTNKcpNWjHaFLouen72KIZ5RknGA6Q/QjSZC+Mz9kKWNNYvNk1+OQ4mTnouFGcK/yLPOu8gMBLPwGyiMsK6It6iAWJL5f4qTkDTjvnpdl3KEg5yq/T6FCsUdpRUVC1V0tX71fk1nLXbtCZ05PW/+IwRsjReNsk3EzLfNCiy9WdtaXbGntwuwfO0o6ZTt/cLVwq/XAe1K8HnqL7jroM+lnSK4MQAb6B92jiIZkhM6EW0XUR7JEJVDHYoxiL8ezJ+zb8zHJDfZTlZSqVI60o+mog8kZXw57ZF7NWs9xOlJ1dPmYY97l44QCyokHRVLFOSfnSl1P3SkTPZMH3/3+57svaFZWVTPVJNZOXXS81FIveiX36lKD9/UHjTJNx5rnb9nfvnyH0BrY1tpO7Ai413gf9cDuYemjiccSTyjdlU/Hezh77fsO9l9//naAMCj3wmGI+vLocM2reyMDr6dGF96sjkNvsROYd5hJMLk89Wl6dObp++YP5R8Pz0Z8sv4sNYedezPfvJD5xeOrxNcv31oW05aMvmO+d/5I+an5c2H5worHKmG1cY38i+7XtXX3jf2PDlRU2AwfEK0BAOjR9fWvogBg8wFYy1tfXylfX187DycbIwDcDdv6zrQZaxgBOMu1gfqufPn87288W9+g/pHH/LsFm5FoUysciTZbOCqB/wFMEuU6xJdDBwAAAFZlWElmTU0AKgAAAAgAAYdpAAQAAAABAAAAGgAAAAAAA5KGAAcAAAASAAAARKACAAQAAAABAAAAbKADAAQAAAABAAAAKQAAAABBU0NJSQAAAFNjcmVlbnNob3TZHVrQAAAB1WlUWHRYTUw6Y29tLmFkb2JlLnhtcAAAAAAAPHg6eG1wbWV0YSB4bWxuczp4PSJhZG9iZTpuczptZXRhLyIgeDp4bXB0az0iWE1QIENvcmUgNi4wLjAiPgogICA8cmRmOlJERiB4bWxuczpyZGY9Imh0dHA6Ly93d3cudzMub3JnLzE5OTkvMDIvMjItcmRmLXN5bnRheC1ucyMiPgogICAgICA8cmRmOkRlc2NyaXB0aW9uIHJkZjphYm91dD0iIgogICAgICAgICAgICB4bWxuczpleGlmPSJodHRwOi8vbnMuYWRvYmUuY29tL2V4aWYvMS4wLyI+CiAgICAgICAgIDxleGlmOlBpeGVsWURpbWVuc2lvbj40MTwvZXhpZjpQaXhlbFlEaW1lbnNpb24+CiAgICAgICAgIDxleGlmOlBpeGVsWERpbWVuc2lvbj4xMDg8L2V4aWY6UGl4ZWxYRGltZW5zaW9uPgogICAgICAgICA8ZXhpZjpVc2VyQ29tbWVudD5TY3JlZW5zaG90PC9leGlmOlVzZXJDb21tZW50PgogICAgICA8L3JkZjpEZXNjcmlwdGlvbj4KICAgPC9yZGY6UkRGPgo8L3g6eG1wbWV0YT4K4KbGXgAABD9JREFUeAHtms1R6zAQx5037w4dQCoIF85QADPQQaCC0AF0AB3AmQt0AKkgdEC45ApU4Kef3iwjPLYsr/ycKE8749jWx2q1//2yJqPSUJEpGQ38SkbSLKjVQAYsMUPIgGXAEtNAYuJmD8uAJaaBxMTNHpYYYL8TkzdY3Nvb2+Lz89Ne+/v7xeXlZfDcTR64lYAB1sHBQXF8fGx1D2A805Y6bW1IXC6X39gA2NPT0/d7yg+jPo6mXl9fbegRi9YoZLVaBU97eHgozs/Pi93d3dY5hMXxeFwsFosC4FKnaMAAixB0f3+v1gXecHJyUhweHrbyODs7K46OjixgrNkGGsBiSNy3gvCwGDo9PS0/Pj5iWJTT6bR8fn7uxIPxV1dX3jk3Nzed+XoZbkBnVA67vr62ibzNyn2WjXdxdQ2njH95ebFz6/iTsxjDRViMiQB1/NfWFmM0Ozs70d41m83UXnB3d2e9s7oH2o1Cf1xdPbjKc1PeC60gKMXkEu10O49QSkjVEvP7MBrt+uuYpw6JhCPCTQxRrMR80BKK+bbalpI9RJdrA4y8QoVZBzp98/nc5h42wTje64hSnf5NJDfHkqfdPWnlVQP2/v6uXdPOw7so0auEtwDA3t6e7RfveXx8LChyqrSJgCE/RQ7GiMzsAfBMCLXfhNU9dHlXHU1hLVCdd9iOlh88SIBxh9bxpQ1gJfy543mOqVBdXnynyfpue90zY33fdYAjoR6DAjRAZM/mE6aOZXibJnFScZkVGqeaU4XSCNpY/fF9RNFSpWolxxpvb2/VYT/e22T5MXiAFwohV2aKqrbvxS5iNWvdw8WnJMCSCtJ4YC2XkOqSNUxYrJ3vNvpkccet65kqFhn7IlVI9PkvVZucil9cXNhQIO/MI7b7wonwJqyEhFzCGEdVsUTYGo1GQWwmk0lt/q1OJgx+fX0F7aM6t+ldBZgAQC5qyiGAghKq54wABhh1hPKJ+RDxXvIA701Ah+YdePgoxDhkvsgo7+4dnXAxhn26xgSAkOjPnRf6rAIMkIyrW+/xbRTA8DLubKBJ6SIsp+pUg4yFxBjYqLTZDudHlOM0qR59++jCUKKHVIbuXNrQRQypy3qsRCymSQCqO4AFKKiplLed5sccU1mQ4It1cmeTgNKkUMY09QnfIe/smYs9c/HMHnh2I4ZaJm0ypLDglL2NqJCMp5RUhn1WS7IuSd2tyqR9W++qKhFlyDlem2IYZ6zpn5z5mfBZhlScbTKm1K8OieQX4jWu7iPG8bFIOJCc5Bvfpa+PnNBlvY0YG2NdeI8pcWNYqOcSBmNO+tULr3li9F8EsHJK614SagcTlsTet9d2EGEtQ9UhUaRFcSiNqm4oojTm+t/AQr/RHjYUSHmdvxqI9rCsyGE1kAEbVt/Rq2XAolU4LIMM2LD6jl4tAxatwmEZZMCG1Xf0ahmwaBUOy+APk+pvCfpr+TkAAAAASUVORK5CYII=)"
      ],
      "metadata": {
        "id": "OSo4GkYv2dIS"
      }
    },
    {
      "cell_type": "markdown",
      "source": [
        "In python programming, we use `sqrt` to calculate the square root of a number. "
      ],
      "metadata": {
        "id": "ahBJHmPA4-YJ"
      }
    },
    {
      "cell_type": "code",
      "source": [
        "import math \n",
        "\n",
        "print(f'Square root of 2: {math.sqrt(2)}') # using math libr\n",
        "print(f'Square root of 4: {np.sqrt(4)}') # using numpy \n"
      ],
      "metadata": {
        "colab": {
          "base_uri": "https://localhost:8080/"
        },
        "id": "we03HEM65HLF",
        "outputId": "d4c3a93d-b8a0-4aee-aee8-41e08b63d63b"
      },
      "execution_count": 60,
      "outputs": [
        {
          "output_type": "stream",
          "name": "stdout",
          "text": [
            "Square root of 2: 1.4142135623730951\n",
            "Square root of 4: 2.0\n"
          ]
        }
      ]
    },
    {
      "cell_type": "markdown",
      "source": [
        "\n",
        "When we talk about complex numbers, they're of form `a + ib`, where\n",
        "- `a` is the real part \n",
        "- `b` which is associated with `i` is the imaginary part. \n",
        "\n",
        "The imaginary number `i` is defined as, \n",
        "```\n",
        "i = np.sqrt(-1)\n",
        "```\n",
        "\n",
        "![Screenshot 2022-04-09 at 2.09.30 AM.png](data:image/png;base64,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)"
      ],
      "metadata": {
        "id": "32wEnLZh5WjA"
      }
    },
    {
      "cell_type": "code",
      "source": [
        "# Using the complex function in py code \n",
        "# outputs the format of real and img part \n",
        "\n",
        "complex(1 , 1) # input will be real and imaginary \n"
      ],
      "metadata": {
        "colab": {
          "base_uri": "https://localhost:8080/"
        },
        "id": "dw_PhtVO7AhQ",
        "outputId": "ec7ebd73-0011-413c-85d8-4b555098d001"
      },
      "execution_count": 61,
      "outputs": [
        {
          "output_type": "execute_result",
          "data": {
            "text/plain": [
              "(1+1j)"
            ]
          },
          "metadata": {},
          "execution_count": 61
        }
      ]
    },
    {
      "cell_type": "code",
      "source": [
        "# Using the numpy imag \n",
        "# this only calculates the imaginary part and returns the result\n",
        "l = [1-1j,2,4 - 4j, 44 - 5j + 4j]\n",
        "\n",
        "np.imag(l)"
      ],
      "metadata": {
        "colab": {
          "base_uri": "https://localhost:8080/"
        },
        "id": "K3FNcFDG7KNU",
        "outputId": "24f651e4-9d17-48f0-9304-6c7b4ff8ab79"
      },
      "execution_count": 62,
      "outputs": [
        {
          "output_type": "execute_result",
          "data": {
            "text/plain": [
              "array([-1.,  0., -4., -1.])"
            ]
          },
          "metadata": {},
          "execution_count": 62
        }
      ]
    },
    {
      "cell_type": "code",
      "source": [
        "# The normal math library cannot be used on the comple numbers\n",
        "math.sqrt(complex(1 , 1))"
      ],
      "metadata": {
        "colab": {
          "base_uri": "https://localhost:8080/",
          "height": 184
        },
        "id": "ehw0T9497jZz",
        "outputId": "de12691a-4548-489c-d893-0d0a5d9d1b96"
      },
      "execution_count": 63,
      "outputs": [
        {
          "output_type": "error",
          "ename": "TypeError",
          "evalue": "ignored",
          "traceback": [
            "\u001b[0;31m---------------------------------------------------------------------------\u001b[0m",
            "\u001b[0;31mTypeError\u001b[0m                                 Traceback (most recent call last)",
            "\u001b[0;32m<ipython-input-63-2f666da7bb1e>\u001b[0m in \u001b[0;36m<module>\u001b[0;34m()\u001b[0m\n\u001b[1;32m      1\u001b[0m \u001b[0;31m# The normal math library cannot be used on the comple numbers\u001b[0m\u001b[0;34m\u001b[0m\u001b[0;34m\u001b[0m\u001b[0;34m\u001b[0m\u001b[0m\n\u001b[0;32m----> 2\u001b[0;31m \u001b[0mmath\u001b[0m\u001b[0;34m.\u001b[0m\u001b[0msqrt\u001b[0m\u001b[0;34m(\u001b[0m\u001b[0mcomplex\u001b[0m\u001b[0;34m(\u001b[0m\u001b[0;36m1\u001b[0m \u001b[0;34m,\u001b[0m \u001b[0;36m1\u001b[0m\u001b[0;34m)\u001b[0m\u001b[0;34m)\u001b[0m\u001b[0;34m\u001b[0m\u001b[0;34m\u001b[0m\u001b[0m\n\u001b[0m",
            "\u001b[0;31mTypeError\u001b[0m: can't convert complex to float"
          ]
        }
      ]
    },
    {
      "cell_type": "markdown",
      "source": [
        "Instead we can use `cmath` that is math library for the complex numbers. Below is a thread that explains why cmath is different from math. \n",
        "\n",
        "- [Differences](https://stackoverflow.com/questions/33684948/difference-between-1-2-math-sqrt-and-cmath-sqrt)\n",
        "- [Cmath Doc](https://docs.python.org/3/library/cmath.html)"
      ],
      "metadata": {
        "id": "E7-D8t6m9jKl"
      }
    },
    {
      "cell_type": "code",
      "source": [
        "import cmath\n",
        "\n",
        "cmath.sqrt(complex(1 , 1))"
      ],
      "metadata": {
        "colab": {
          "base_uri": "https://localhost:8080/"
        },
        "id": "idTbVRj2-z-X",
        "outputId": "1bdf40d6-4a84-46c3-d1c3-6ece2b1b957f"
      },
      "execution_count": 64,
      "outputs": [
        {
          "output_type": "execute_result",
          "data": {
            "text/plain": [
              "(1.09868411346781+0.45508986056222733j)"
            ]
          },
          "metadata": {},
          "execution_count": 64
        }
      ]
    },
    {
      "cell_type": "markdown",
      "source": [
        "Getting the conjugate of a complex number, we can obtain the conjugate of a complex number by changing the sign of a complex number. \n",
        "\n",
        "We can use numpy for this -> `np.conj or np.conjugate`"
      ],
      "metadata": {
        "id": "8LvpOYkU--Ty"
      }
    },
    {
      "cell_type": "code",
      "source": [
        "# Numpy conjugate to get the \n",
        "a = complex(0.3 , 39)\n",
        "\n",
        "# Complex conjugate of the below\n",
        "print(f'Complex number: {a}')\n",
        "print(f'Complex Conjugate: {np.conj(a)}')"
      ],
      "metadata": {
        "colab": {
          "base_uri": "https://localhost:8080/"
        },
        "id": "DPoNgNed_sPi",
        "outputId": "66b54aad-13dc-4756-889a-4e1687ca4f50"
      },
      "execution_count": 65,
      "outputs": [
        {
          "output_type": "stream",
          "name": "stdout",
          "text": [
            "Complex number: (0.3+39j)\n",
            "Complex Conjugate: (0.3-39j)\n"
          ]
        }
      ]
    },
    {
      "cell_type": "markdown",
      "source": [
        "When we take a cube root of the complex numbers, we are left with the cube roots of units. In which we get 3 values returned, and one of them will be a real number and other two will be a complex conjugates. \n",
        "\n",
        "\n",
        "\n",
        "**Cube roots of unity**"
      ],
      "metadata": {
        "id": "i4UkIzJkBnMC"
      }
    },
    {
      "cell_type": "code",
      "source": [
        "z1 = .5 * complex(-1 , math.sqrt(3))\n",
        "z1"
      ],
      "metadata": {
        "colab": {
          "base_uri": "https://localhost:8080/"
        },
        "id": "5aETkuEMEWMP",
        "outputId": "f966d836-8d25-43f5-a56e-a1f04464c8b2"
      },
      "execution_count": 66,
      "outputs": [
        {
          "output_type": "execute_result",
          "data": {
            "text/plain": [
              "(-0.5+0.8660254037844386j)"
            ]
          },
          "metadata": {},
          "execution_count": 66
        }
      ]
    },
    {
      "cell_type": "code",
      "source": [
        "# Using the Numpy's constructor \n",
        ".5 * np.complex(-1 , math.sqrt(3))"
      ],
      "metadata": {
        "colab": {
          "base_uri": "https://localhost:8080/"
        },
        "id": "psaTXXveEcC-",
        "outputId": "21ac6a1b-68ef-4abf-aa50-c0e288f353fc"
      },
      "execution_count": 67,
      "outputs": [
        {
          "output_type": "stream",
          "name": "stderr",
          "text": [
            "/usr/local/lib/python3.7/dist-packages/ipykernel_launcher.py:2: DeprecationWarning: `np.complex` is a deprecated alias for the builtin `complex`. To silence this warning, use `complex` by itself. Doing this will not modify any behavior and is safe. If you specifically wanted the numpy scalar type, use `np.complex128` here.\n",
            "Deprecated in NumPy 1.20; for more details and guidance: https://numpy.org/devdocs/release/1.20.0-notes.html#deprecations\n",
            "  \n"
          ]
        },
        {
          "output_type": "execute_result",
          "data": {
            "text/plain": [
              "(-0.5+0.8660254037844386j)"
            ]
          },
          "metadata": {},
          "execution_count": 67
        }
      ]
    },
    {
      "cell_type": "code",
      "source": [
        "# Conjugation of the z1\n",
        "z2 = np.conj(z1)\n",
        "z2"
      ],
      "metadata": {
        "colab": {
          "base_uri": "https://localhost:8080/"
        },
        "id": "ojFNoZK8EdQk",
        "outputId": "30c5e272-376d-415a-ccd8-388878ca539d"
      },
      "execution_count": 68,
      "outputs": [
        {
          "output_type": "execute_result",
          "data": {
            "text/plain": [
              "(-0.5-0.8660254037844386j)"
            ]
          },
          "metadata": {},
          "execution_count": 68
        }
      ]
    },
    {
      "cell_type": "code",
      "source": [
        "# Testing the cube roots of unity \n",
        "np.testing.assert_almost_equal(z1**3 , z2**3)"
      ],
      "metadata": {
        "id": "z6yq7YwoFG2G"
      },
      "execution_count": 69,
      "outputs": []
    },
    {
      "cell_type": "code",
      "source": [
        "# Comparing with almost equals \n",
        "\n",
        "z1**3 , z2**3"
      ],
      "metadata": {
        "colab": {
          "base_uri": "https://localhost:8080/"
        },
        "id": "RAepcRv0FVIf",
        "outputId": "df53b08e-f747-4aa2-d2a9-6845394b6303"
      },
      "execution_count": 70,
      "outputs": [
        {
          "output_type": "execute_result",
          "data": {
            "text/plain": [
              "((0.9999999999999998+1.1102230246251565e-16j),\n",
              " (0.9999999999999998-1.1102230246251565e-16j))"
            ]
          },
          "metadata": {},
          "execution_count": 70
        }
      ]
    },
    {
      "cell_type": "markdown",
      "source": [
        "https://numpy.org/doc/stable/user/basics.types.html"
      ],
      "metadata": {
        "id": "K0_EXkSsFeQ7"
      }
    },
    {
      "cell_type": "markdown",
      "source": [
        "### Dot and Cross Product \n",
        "\n",
        "- `.` -> dot product \n",
        "- `x` -> cross product \n",
        "\n"
      ],
      "metadata": {
        "id": "_rB_aPyIFvEj"
      }
    },
    {
      "cell_type": "markdown",
      "source": [
        "**Scalar Multiplication** \n",
        "\n",
        "Both the symbols can represent the simple multiplication of the scalars. \n",
        "\n",
        "\n",
        "```\n",
        "5.4 = 5x4 # dot == cross \n",
        "```\n",
        "\n",
        "But when it comes to the vector multiplication both holds different meanings in linear algebra. And we don't really use the dot an cross for the following, \n",
        "- multiplication of one vector with a scalar. \n",
        "- element wwise multiplication of a vector with another \n",
        "\n"
      ],
      "metadata": {
        "id": "CdC7c56YGhcf"
      }
    },
    {
      "cell_type": "code",
      "source": [
        "s = 3 \n",
        "\n",
        "k = [1,2]\n",
        "j = [3,4]\n",
        "\n",
        "# below is the element wise multi\n",
        "def multiply(a, b): return [aa* bb for aa , bb in zip(a,b)]\n",
        "\n",
        "# Vector with a scalar multi\n",
        "def multiply_scalar(scalar , a): return [scalar * a for aa in a]\n",
        "\n",
        "# Applying the above \n",
        "tmp = multiply(k , j)\n",
        "print(tmp)\n",
        "\n",
        "\n",
        "print(multiply_scalar(s, tmp))\n"
      ],
      "metadata": {
        "colab": {
          "base_uri": "https://localhost:8080/"
        },
        "id": "mG1gzRBLbn_u",
        "outputId": "021b955e-712c-43ea-83a4-1f8ccb7f181b"
      },
      "execution_count": 77,
      "outputs": [
        {
          "output_type": "stream",
          "name": "stdout",
          "text": [
            "[3, 8]\n",
            "[[3, 8, 3, 8, 3, 8], [3, 8, 3, 8, 3, 8]]\n"
          ]
        }
      ]
    },
    {
      "cell_type": "code",
      "source": [
        "import numpy as np \n",
        "\n",
        "a = np.array([[1 , 2 ,3 ] , \n",
        "              [4, 5 ,6 ] , \n",
        "              [7 , 8 , 9]])\n",
        "\n",
        "b = np.array([[1 ,2 ] , \n",
        "              [3 ,4]])\n",
        "\n",
        "c =  np.array([[11 , 12 ,13 ] , \n",
        "              [14, 15 ,16 ] , \n",
        "              [17 , 18 , 19]])"
      ],
      "metadata": {
        "id": "lcZY1w5lbvqc"
      },
      "execution_count": 102,
      "outputs": []
    },
    {
      "cell_type": "code",
      "source": [
        "# Matrix multiplication == Dot Product when the Dimensionality is same\n",
        "\n",
        "np.matmul(a ,c) == np.dot(a , c)"
      ],
      "metadata": {
        "colab": {
          "base_uri": "https://localhost:8080/"
        },
        "id": "c6FyXwJgcA2Z",
        "outputId": "46db1220-9089-4382-f44e-065d12b37207"
      },
      "execution_count": 87,
      "outputs": [
        {
          "output_type": "execute_result",
          "data": {
            "text/plain": [
              "array([[ True,  True,  True],\n",
              "       [ True,  True,  True],\n",
              "       [ True,  True,  True]])"
            ]
          },
          "metadata": {},
          "execution_count": 87
        }
      ]
    },
    {
      "cell_type": "markdown",
      "source": [
        "The dot product between two vectors x and y of the same dimensionality is the matrix product x`T`y.\n",
        "\n",
        "Dot product is commutative where you can change the order of the product and still the operation works whereas in the Matrix Multiplication it doesn't apply. \n",
        "\n",
        "**Linear Combination**\n",
        "\n",
        "Here we multiply a set / array of vectors with the corresponding scalar and add the results. \n",
        "\n",
        "For instance, \n",
        "```\n",
        "v = {v0, ...... vn} and s= {s0...sn} where each v will be an vector and each s will be an scalar.\n",
        "```\n",
        "`v0 * s0 + v1 * s1 + ......+ vn*sn`"
      ],
      "metadata": {
        "id": "TCgZmPeWekca"
      }
    },
    {
      "cell_type": "code",
      "source": [
        "# Using the numpy lin alg \n",
        "scalar = np.array([ [2] , [3] , [4]])\n",
        "\n",
        "\n",
        "np.dot(a , scalar)"
      ],
      "metadata": {
        "colab": {
          "base_uri": "https://localhost:8080/"
        },
        "id": "suNOZEumfCPE",
        "outputId": "88024e0b-0077-4f7a-e2ac-317b8d744019"
      },
      "execution_count": 109,
      "outputs": [
        {
          "output_type": "execute_result",
          "data": {
            "text/plain": [
              "array([[20],\n",
              "       [47],\n",
              "       [74]])"
            ]
          },
          "metadata": {},
          "execution_count": 109
        }
      ]
    },
    {
      "cell_type": "code",
      "source": [
        "a.shape , scalar.shape"
      ],
      "metadata": {
        "colab": {
          "base_uri": "https://localhost:8080/"
        },
        "id": "pn7X8TPsfkkT",
        "outputId": "57e627dd-6def-4a74-c127-63b47b8b30ab"
      },
      "execution_count": 97,
      "outputs": [
        {
          "output_type": "execute_result",
          "data": {
            "text/plain": [
              "((3, 3), (3,))"
            ]
          },
          "metadata": {},
          "execution_count": 97
        }
      ]
    },
    {
      "cell_type": "code",
      "source": [
        "a = np.array([[1, 2], [3, 5]])\n",
        "b = np.array([1, 2])\n",
        "\n",
        "a.shape , b.shape"
      ],
      "metadata": {
        "colab": {
          "base_uri": "https://localhost:8080/"
        },
        "id": "AF--wS-PoCeW",
        "outputId": "69b94ef9-21b3-4f3b-f908-704137f170ba"
      },
      "execution_count": 98,
      "outputs": [
        {
          "output_type": "execute_result",
          "data": {
            "text/plain": [
              "((2, 2), (2,))"
            ]
          },
          "metadata": {},
          "execution_count": 98
        }
      ]
    },
    {
      "cell_type": "code",
      "source": [
        ""
      ],
      "metadata": {
        "id": "AwXXnc6noHiB"
      },
      "execution_count": null,
      "outputs": []
    }
  ]
}